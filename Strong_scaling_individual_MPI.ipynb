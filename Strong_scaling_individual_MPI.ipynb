{
 "cells": [
  {
   "cell_type": "markdown",
   "metadata": {},
   "source": [
    "# Individual Algo Strong Scaling (input types on same plots)"
   ]
  },
  {
   "cell_type": "code",
   "execution_count": 1,
   "metadata": {},
   "outputs": [],
   "source": [
    "import sys\n",
    "sys.path.append(\"/scratch/group/csce435-f23/python-3.8.17/lib/python3.8/site-packages\")\n",
    "sys.path.append(\"/scratch/group/csce435-f23/thicket\")\n",
    "from glob import glob\n",
    "\n",
    "import matplotlib.pyplot as plt\n",
    "import pandas as pd\n",
    "\n",
    "import thicket as th\n",
    "\n",
    "pd.set_option(\"display.max_rows\", None)\n",
    "pd.set_option(\"display.max_columns\", None)"
   ]
  },
  {
   "cell_type": "markdown",
   "metadata": {},
   "source": [
    "Read in all the files"
   ]
  },
  {
   "cell_type": "code",
   "execution_count": 2,
   "metadata": {},
   "outputs": [
    {
     "ename": "IndexError",
     "evalue": "list index out of range",
     "output_type": "error",
     "traceback": [
      "\u001b[0;31m---------------------------------------------------------------------------\u001b[0m",
      "\u001b[0;31mIndexError\u001b[0m                                Traceback (most recent call last)",
      "\u001b[0;32m<ipython-input-2-73790ba93892>\u001b[0m in \u001b[0;36m<module>\u001b[0;34m\u001b[0m\n\u001b[0;32m----> 1\u001b[0;31m \u001b[0mtk\u001b[0m \u001b[0;34m=\u001b[0m \u001b[0mth\u001b[0m\u001b[0;34m.\u001b[0m\u001b[0mThicket\u001b[0m\u001b[0;34m.\u001b[0m\u001b[0mfrom_caliperreader\u001b[0m\u001b[0;34m(\u001b[0m\u001b[0mglob\u001b[0m\u001b[0;34m(\u001b[0m\u001b[0;34m\"cali_files/*-bubble.cali\"\u001b[0m\u001b[0;34m)\u001b[0m\u001b[0;34m)\u001b[0m\u001b[0;34m\u001b[0m\u001b[0;34m\u001b[0m\u001b[0m\n\u001b[0m\u001b[1;32m      2\u001b[0m \u001b[0mtk\u001b[0m\u001b[0;34m.\u001b[0m\u001b[0mdataframe\u001b[0m \u001b[0;34m=\u001b[0m \u001b[0mtk\u001b[0m\u001b[0;34m.\u001b[0m\u001b[0mdataframe\u001b[0m\u001b[0;34m.\u001b[0m\u001b[0mdrop\u001b[0m\u001b[0;34m(\u001b[0m\u001b[0;34m[\u001b[0m\u001b[0;34m\"nid\"\u001b[0m\u001b[0;34m,\u001b[0m \u001b[0;34m\"spot.channel\"\u001b[0m\u001b[0;34m,\u001b[0m \u001b[0;34m\"Total time\"\u001b[0m\u001b[0;34m]\u001b[0m\u001b[0;34m,\u001b[0m \u001b[0maxis\u001b[0m\u001b[0;34m=\u001b[0m\u001b[0;36m1\u001b[0m\u001b[0;34m)\u001b[0m\u001b[0;34m\u001b[0m\u001b[0;34m\u001b[0m\u001b[0m\n\u001b[1;32m      3\u001b[0m \u001b[0;31m#tk.dataframe = tk.dataframe.drop([\"spot.channel\", \"Total time\"], axis=1)\u001b[0m\u001b[0;34m\u001b[0m\u001b[0;34m\u001b[0m\u001b[0;34m\u001b[0m\u001b[0m\n",
      "\u001b[0;32m/scratch/group/csce435-f23/thicket/thicket/thicket.py\u001b[0m in \u001b[0;36mfrom_caliperreader\u001b[0;34m(filename_or_caliperreader, intersection)\u001b[0m\n\u001b[1;32m    210\u001b[0m             \u001b[0mintersection\u001b[0m \u001b[0;34m(\u001b[0m\u001b[0mbool\u001b[0m\u001b[0;34m)\u001b[0m\u001b[0;34m:\u001b[0m \u001b[0mwhether\u001b[0m \u001b[0mto\u001b[0m \u001b[0mperform\u001b[0m \u001b[0mintersection\u001b[0m \u001b[0;32mor\u001b[0m \u001b[0munion\u001b[0m \u001b[0;34m(\u001b[0m\u001b[0mdefault\u001b[0m\u001b[0;34m)\u001b[0m\u001b[0;34m\u001b[0m\u001b[0;34m\u001b[0m\u001b[0m\n\u001b[1;32m    211\u001b[0m         \"\"\"\n\u001b[0;32m--> 212\u001b[0;31m         return Thicket.reader_dispatch(\n\u001b[0m\u001b[1;32m    213\u001b[0m             \u001b[0mGraphFrame\u001b[0m\u001b[0;34m.\u001b[0m\u001b[0mfrom_caliperreader\u001b[0m\u001b[0;34m,\u001b[0m \u001b[0mintersection\u001b[0m\u001b[0;34m,\u001b[0m \u001b[0mfilename_or_caliperreader\u001b[0m\u001b[0;34m\u001b[0m\u001b[0;34m\u001b[0m\u001b[0m\n\u001b[1;32m    214\u001b[0m         )\n",
      "\u001b[0;32m/scratch/group/csce435-f23/thicket/thicket/thicket.py\u001b[0m in \u001b[0;36mreader_dispatch\u001b[0;34m(func, intersection, *args, **kwargs)\u001b[0m\n\u001b[1;32m    263\u001b[0m         \u001b[0;32mif\u001b[0m \u001b[0mintersection\u001b[0m\u001b[0;34m:\u001b[0m\u001b[0;34m\u001b[0m\u001b[0;34m\u001b[0m\u001b[0m\n\u001b[1;32m    264\u001b[0m             \u001b[0mcalltree\u001b[0m \u001b[0;34m=\u001b[0m \u001b[0;34m\"intersection\"\u001b[0m\u001b[0;34m\u001b[0m\u001b[0;34m\u001b[0m\u001b[0m\n\u001b[0;32m--> 265\u001b[0;31m         thicket_object = Thicket.concat_thickets(\n\u001b[0m\u001b[1;32m    266\u001b[0m             \u001b[0mthickets\u001b[0m\u001b[0;34m=\u001b[0m\u001b[0mens_list\u001b[0m\u001b[0;34m,\u001b[0m\u001b[0;34m\u001b[0m\u001b[0;34m\u001b[0m\u001b[0m\n\u001b[1;32m    267\u001b[0m             \u001b[0maxis\u001b[0m\u001b[0;34m=\u001b[0m\u001b[0;34m\"index\"\u001b[0m\u001b[0;34m,\u001b[0m\u001b[0;34m\u001b[0m\u001b[0;34m\u001b[0m\u001b[0m\n",
      "\u001b[0;32m/scratch/group/csce435-f23/thicket/thicket/thicket.py\u001b[0m in \u001b[0;36mconcat_thickets\u001b[0;34m(thickets, axis, calltree, **kwargs)\u001b[0m\n\u001b[1;32m    320\u001b[0m \u001b[0;34m\u001b[0m\u001b[0m\n\u001b[1;32m    321\u001b[0m         \u001b[0;32mif\u001b[0m \u001b[0maxis\u001b[0m \u001b[0;34m==\u001b[0m \u001b[0;34m\"index\"\u001b[0m\u001b[0;34m:\u001b[0m\u001b[0;34m\u001b[0m\u001b[0;34m\u001b[0m\u001b[0m\n\u001b[0;32m--> 322\u001b[0;31m             \u001b[0mct\u001b[0m \u001b[0;34m=\u001b[0m \u001b[0m_index\u001b[0m\u001b[0;34m(\u001b[0m\u001b[0mthickets\u001b[0m\u001b[0;34m,\u001b[0m \u001b[0;34m**\u001b[0m\u001b[0mkwargs\u001b[0m\u001b[0;34m)\u001b[0m\u001b[0;34m\u001b[0m\u001b[0;34m\u001b[0m\u001b[0m\n\u001b[0m\u001b[1;32m    323\u001b[0m         \u001b[0;32melif\u001b[0m \u001b[0maxis\u001b[0m \u001b[0;34m==\u001b[0m \u001b[0;34m\"columns\"\u001b[0m\u001b[0;34m:\u001b[0m\u001b[0;34m\u001b[0m\u001b[0;34m\u001b[0m\u001b[0m\n\u001b[1;32m    324\u001b[0m             \u001b[0mct\u001b[0m \u001b[0;34m=\u001b[0m \u001b[0m_columns\u001b[0m\u001b[0;34m(\u001b[0m\u001b[0mthickets\u001b[0m\u001b[0;34m,\u001b[0m \u001b[0;34m**\u001b[0m\u001b[0mkwargs\u001b[0m\u001b[0;34m)\u001b[0m\u001b[0;34m\u001b[0m\u001b[0;34m\u001b[0m\u001b[0m\n",
      "\u001b[0;32m/scratch/group/csce435-f23/thicket/thicket/thicket.py\u001b[0m in \u001b[0;36m_index\u001b[0;34m(thickets, from_statsframes)\u001b[0m\n\u001b[1;32m    295\u001b[0m \u001b[0;34m\u001b[0m\u001b[0m\n\u001b[1;32m    296\u001b[0m         \u001b[0;32mdef\u001b[0m \u001b[0m_index\u001b[0m\u001b[0;34m(\u001b[0m\u001b[0mthickets\u001b[0m\u001b[0;34m,\u001b[0m \u001b[0mfrom_statsframes\u001b[0m\u001b[0;34m=\u001b[0m\u001b[0;32mFalse\u001b[0m\u001b[0;34m)\u001b[0m\u001b[0;34m:\u001b[0m\u001b[0;34m\u001b[0m\u001b[0;34m\u001b[0m\u001b[0m\n\u001b[0;32m--> 297\u001b[0;31m             thicket_parts = Ensemble._index(\n\u001b[0m\u001b[1;32m    298\u001b[0m                 \u001b[0mthickets\u001b[0m\u001b[0;34m=\u001b[0m\u001b[0mthickets\u001b[0m\u001b[0;34m,\u001b[0m \u001b[0mfrom_statsframes\u001b[0m\u001b[0;34m=\u001b[0m\u001b[0mfrom_statsframes\u001b[0m\u001b[0;34m\u001b[0m\u001b[0;34m\u001b[0m\u001b[0m\n\u001b[1;32m    299\u001b[0m             )\n",
      "\u001b[0;32m/scratch/group/csce435-f23/thicket/thicket/ensemble.py\u001b[0m in \u001b[0;36m_index\u001b[0;34m(thickets, from_statsframes)\u001b[0m\n\u001b[1;32m    334\u001b[0m \u001b[0;34m\u001b[0m\u001b[0m\n\u001b[1;32m    335\u001b[0m         \u001b[0;31m# Unification\u001b[0m\u001b[0;34m\u001b[0m\u001b[0;34m\u001b[0m\u001b[0;34m\u001b[0m\u001b[0m\n\u001b[0;32m--> 336\u001b[0;31m         \u001b[0munify_graph\u001b[0m\u001b[0;34m,\u001b[0m \u001b[0mthickets\u001b[0m \u001b[0;34m=\u001b[0m \u001b[0mEnsemble\u001b[0m\u001b[0;34m.\u001b[0m\u001b[0m_unify\u001b[0m\u001b[0;34m(\u001b[0m\u001b[0mthickets\u001b[0m\u001b[0;34m)\u001b[0m\u001b[0;34m\u001b[0m\u001b[0;34m\u001b[0m\u001b[0m\n\u001b[0m\u001b[1;32m    337\u001b[0m         \u001b[0;32mfor\u001b[0m \u001b[0mth\u001b[0m \u001b[0;32min\u001b[0m \u001b[0mthickets\u001b[0m\u001b[0;34m:\u001b[0m\u001b[0;34m\u001b[0m\u001b[0;34m\u001b[0m\u001b[0m\n\u001b[1;32m    338\u001b[0m             \u001b[0;31m# Extend metrics\u001b[0m\u001b[0;34m\u001b[0m\u001b[0;34m\u001b[0m\u001b[0;34m\u001b[0m\u001b[0m\n",
      "\u001b[0;32m/scratch/group/csce435-f23/thicket/thicket/ensemble.py\u001b[0m in \u001b[0;36m_unify\u001b[0;34m(thickets, inplace)\u001b[0m\n\u001b[1;32m     34\u001b[0m             \u001b[0m_thickets\u001b[0m \u001b[0;34m=\u001b[0m \u001b[0;34m[\u001b[0m\u001b[0mth\u001b[0m\u001b[0;34m.\u001b[0m\u001b[0mdeepcopy\u001b[0m\u001b[0;34m(\u001b[0m\u001b[0;34m)\u001b[0m \u001b[0;32mfor\u001b[0m \u001b[0mth\u001b[0m \u001b[0;32min\u001b[0m \u001b[0mthickets\u001b[0m\u001b[0;34m]\u001b[0m\u001b[0;34m\u001b[0m\u001b[0;34m\u001b[0m\u001b[0m\n\u001b[1;32m     35\u001b[0m         \u001b[0;31m# Unify graphs if \"self\" and \"other\" do not have the same graph\u001b[0m\u001b[0;34m\u001b[0m\u001b[0;34m\u001b[0m\u001b[0;34m\u001b[0m\u001b[0m\n\u001b[0;32m---> 36\u001b[0;31m         \u001b[0munion_graph\u001b[0m \u001b[0;34m=\u001b[0m \u001b[0m_thickets\u001b[0m\u001b[0;34m[\u001b[0m\u001b[0;36m0\u001b[0m\u001b[0;34m]\u001b[0m\u001b[0;34m.\u001b[0m\u001b[0mgraph\u001b[0m\u001b[0;34m\u001b[0m\u001b[0;34m\u001b[0m\u001b[0m\n\u001b[0m\u001b[1;32m     37\u001b[0m         \u001b[0;32mfor\u001b[0m \u001b[0mi\u001b[0m \u001b[0;32min\u001b[0m \u001b[0mrange\u001b[0m\u001b[0;34m(\u001b[0m\u001b[0mlen\u001b[0m\u001b[0;34m(\u001b[0m\u001b[0m_thickets\u001b[0m\u001b[0;34m)\u001b[0m \u001b[0;34m-\u001b[0m \u001b[0;36m1\u001b[0m\u001b[0;34m)\u001b[0m\u001b[0;34m:\u001b[0m\u001b[0;34m\u001b[0m\u001b[0;34m\u001b[0m\u001b[0m\n\u001b[1;32m     38\u001b[0m             \u001b[0;31m# Check for same graph id (fast) if not -> check for equality (slow)\u001b[0m\u001b[0;34m\u001b[0m\u001b[0;34m\u001b[0m\u001b[0;34m\u001b[0m\u001b[0m\n",
      "\u001b[0;31mIndexError\u001b[0m: list index out of range"
     ]
    }
   ],
   "source": [
    "tk = th.Thicket.from_caliperreader(glob(\"cali_files/*-bubble.cali\"))\n",
    "tk.dataframe = tk.dataframe.drop([\"nid\", \"spot.channel\", \"Total time\"], axis=1)\n",
    "#tk.dataframe = tk.dataframe.drop([\"spot.channel\", \"Total time\"], axis=1)"
   ]
  },
  {
   "cell_type": "code",
   "execution_count": null,
   "metadata": {},
   "outputs": [],
   "source": [
    "# Performance data\n",
    "tk.dataframe"
   ]
  },
  {
   "cell_type": "markdown",
   "metadata": {},
   "source": [
    "Groupby matrix size argument, available in the metadata (tk.metadata) to organize our performance data into 3 groupings."
   ]
  },
  {
   "cell_type": "code",
   "execution_count": null,
   "metadata": {},
   "outputs": [],
   "source": [
    "tk.statsframe.dataframe[\"time\"]= 1\n",
    "print(tk.tree())"
   ]
  },
  {
   "cell_type": "code",
   "execution_count": null,
   "metadata": {},
   "outputs": [],
   "source": [
    "tk.metadata"
   ]
  },
  {
   "cell_type": "code",
   "execution_count": null,
   "metadata": {},
   "outputs": [],
   "source": [
    "gb = tk.groupby(\"InputSize\")\n",
    "print(gb.keys())\n",
    "allthickets = list(gb.values())\n",
    "input65536 = gb[65536].groupby(\"InputType\")\n",
    "input262144 = gb[262144].groupby(\"InputType\")\n",
    "input1048576 = gb[1048576].groupby(\"InputType\")\n",
    "input4194304 = gb[4194304].groupby(\"InputType\")\n",
    "input16777216 = gb[16777216].groupby(\"InputType\")\n",
    "input67108864 = gb[67108864].groupby(\"InputType\")\n",
    "input268435456 = gb[268435456].groupby(\"InputType\")\n",
    "\n",
    "# inputsorted = gb['sorted'].groupby(\"InputType\")\n",
    "# inputreversed = gb['reversed'].groupby(\"InputSize\")\n",
    "# inputperturbed = gb['1 perturbed'].groupby(\"InputSize\")\n",
    "# inputrandom = gb['random'].groupby(\"InputSize\")"
   ]
  },
  {
   "cell_type": "markdown",
   "metadata": {},
   "source": [
    "Compose these 3 groups column-wise to get a holistic view of the data"
   ]
  },
  {
   "cell_type": "code",
   "execution_count": null,
   "metadata": {},
   "outputs": [],
   "source": [
    "ctk65536 = th.Thicket.concat_thickets(\n",
    "    thickets=list(input65536.values()),\n",
    "    headers=list(input65536.keys()),\n",
    "    axis=\"columns\",\n",
    "    metadata_key=\"num_procs\"\n",
    ")\n",
    "\n",
    "ctk262144 = th.Thicket.concat_thickets(\n",
    "    thickets=list(input262144.values()),\n",
    "    headers=list(input262144.keys()),\n",
    "    axis=\"columns\",\n",
    "    metadata_key=\"num_procs\"\n",
    ")\n",
    "\n",
    "ctk1048576 = th.Thicket.concat_thickets(\n",
    "    thickets=list(input1048576.values()),\n",
    "    headers=list(input1048576.keys()),\n",
    "    axis=\"columns\",\n",
    "    metadata_key=\"num_procs\"\n",
    ")\n",
    "\n",
    "ctk4194304 = th.Thicket.concat_thickets(\n",
    "    thickets=list(input4194304.values()),\n",
    "    headers=list(input4194304.keys()),\n",
    "    axis=\"columns\",\n",
    "    metadata_key=\"num_procs\"\n",
    ")\n",
    "ctk16777216 = th.Thicket.concat_thickets(\n",
    "    thickets=list(input16777216.values()),\n",
    "    headers=list(input16777216.keys()),\n",
    "    axis=\"columns\",\n",
    "    metadata_key=\"num_procs\"\n",
    ")\n",
    "ctk67108864 = th.Thicket.concat_thickets(\n",
    "    thickets=list(input67108864.values()),\n",
    "    headers=list(input67108864.keys()),\n",
    "    axis=\"columns\",\n",
    "    metadata_key=\"num_procs\"\n",
    ")\n",
    "ctk268435456 = th.Thicket.concat_thickets(\n",
    "    thickets=list(input268435456.values()),\n",
    "    headers=list(input268435456.keys()),\n",
    "    axis=\"columns\",\n",
    "    metadata_key=\"num_procs\"\n",
    ")\n",
    "\n",
    "\n",
    "\n",
    "allctk = []\n",
    "allctk.append(ctk65536)\n",
    "allctk.append(ctk262144)\n",
    "allctk.append(ctk1048576)\n",
    "allctk.append(ctk4194304)\n",
    "allctk.append(ctk16777216)\n",
    "allctk.append(ctk67108864)\n",
    "allctk.append(ctk268435456)"
   ]
  },
  {
   "cell_type": "code",
   "execution_count": null,
   "metadata": {},
   "outputs": [],
   "source": [
    "for ctk in allctk:\n",
    "    display(ctk.dataframe)"
   ]
  },
  {
   "cell_type": "markdown",
   "metadata": {},
   "source": [
    "Perform pandas operations to get the table in a desirable format for plotting"
   ]
  },
  {
   "cell_type": "code",
   "execution_count": null,
   "metadata": {},
   "outputs": [],
   "source": []
  },
  {
   "cell_type": "code",
   "execution_count": null,
   "metadata": {},
   "outputs": [],
   "source": [
    "for ctk in allctk:\n",
    "    # Drop unwanted columns\n",
    "    columns_to_drop = [(\"node\", \"\"), (\"index\", \"\"),]\n",
    "    ctk.dataframe = ctk.dataframe.reset_index().drop(columns_to_drop, axis=1, errors='ignore')\n",
    "    # Rename index to remove tuple\n",
    "    ctk.dataframe = ctk.dataframe.rename({(\"name\", \"\"): \"name\", (\"num_procs\", \"\"): \"num_procs\"}).set_index([\"name\", \"num_procs\"])"
   ]
  },
  {
   "cell_type": "code",
   "execution_count": null,
   "metadata": {},
   "outputs": [],
   "source": [
    "for ctk in allctk:\n",
    "    display(ctk.dataframe)"
   ]
  },
  {
   "cell_type": "code",
   "execution_count": null,
   "metadata": {},
   "outputs": [],
   "source": [
    "# Define common variables\n",
    "threads = sorted(list(set(allctk[0].dataframe.index.get_level_values(\"num_procs\"))))"
   ]
  },
  {
   "cell_type": "code",
   "execution_count": null,
   "metadata": {},
   "outputs": [],
   "source": [
    "# Drop unwanted columns\n",
    "for ctk in allctk:\n",
    "    columns_to_drop = [('1 perturbed', 'Min time/rank'), ('1 perturbed', 'Max time/rank'),\n",
    "                       ('random', 'Max time/rank'), ('random', 'Min time/rank'),\n",
    "                       ('reversed', 'Max time/rank'), ('reversed', 'Min time/rank'),\n",
    "                       ('sorted', 'Max time/rank'), ('sorted', 'Min time/rank')]\n",
    "    ctk.dataframe = ctk.dataframe.drop(columns_to_drop, axis=1, errors='ignore')\n",
    "    function_names = sorted(ctk.dataframe.columns.tolist())\n",
    "print(ctk.dataframe.columns)\n",
    "print(function_names)\n"
   ]
  },
  {
   "cell_type": "code",
   "execution_count": null,
   "metadata": {},
   "outputs": [],
   "source": [
    "for ctk in allctk:\n",
    "    display(ctk.metadata)"
   ]
  },
  {
   "cell_type": "code",
   "execution_count": null,
   "metadata": {},
   "outputs": [],
   "source": []
  },
  {
   "cell_type": "markdown",
   "metadata": {},
   "source": [
    "# Plotting"
   ]
  },
  {
   "cell_type": "markdown",
   "metadata": {},
   "source": [
    "### Option 1\n",
    "Use `pandas.DataFrame.plot` to automatically interface with matplotlib"
   ]
  },
  {
   "cell_type": "code",
   "execution_count": null,
   "metadata": {},
   "outputs": [],
   "source": []
  },
  {
   "cell_type": "markdown",
   "metadata": {},
   "source": [
    "### Option 2\n",
    "Use `matplotlib.pyplot` directly for more fine-grained control. Specifically for our case we can change the x axis scaling from base 10 to base 2."
   ]
  },
  {
   "cell_type": "code",
   "execution_count": null,
   "metadata": {},
   "outputs": [],
   "source": [
    "def plot_mpl(df, title, xlabel, ylabel):\n",
    "    fig = plt.figure()\n",
    "    ax = fig.add_subplot(1, 1, 1)\n",
    "    ax.plot(\n",
    "        df,\n",
    "        marker='o',\n",
    "    )\n",
    "    ax.set_title(title)\n",
    "    ax.set_xlabel(xlabel)\n",
    "    ax.set_ylabel(ylabel)\n",
    "    ax.legend(df.columns)\n",
    "    plt.grid(True)\n",
    "    #plt.yscale(\"log\", base=10)\n",
    "    plt.xscale(\"log\", base=2)\n",
    "    plt.xticks(threads)\n",
    "    plt.show()\n",
    "    return fig, ax"
   ]
  },
  {
   "cell_type": "code",
   "execution_count": null,
   "metadata": {},
   "outputs": [],
   "source": [
    "def plot_mpl3(df,df1, df2, title, xlabel, ylabel, label1, label2, label3):\n",
    "    fig = plt.figure()\n",
    "    ax = fig.add_subplot(1, 1, 1)\n",
    "    ax.plot(\n",
    "        df,\n",
    "        marker='o', label=label1\n",
    "    )\n",
    "    ax.plot(df1, marker='>', label=label2)\n",
    "    ax.plot(df2, marker='<', label=label3)\n",
    "    ax.plot()\n",
    "    ax.set_title(title)\n",
    "    ax.set_xlabel(xlabel)\n",
    "    ax.set_ylabel(ylabel)\n",
    "    ax.legend()\n",
    "    plt.grid(True)\n",
    "    #plt.yscale(\"log\", base=10)\n",
    "    plt.xscale(\"log\", base=2)\n",
    "    plt.xticks(threads)\n",
    "    plt.show()\n",
    "    return fig, ax"
   ]
  },
  {
   "cell_type": "code",
   "execution_count": null,
   "metadata": {},
   "outputs": [],
   "source": [
    "def plot_mpl2(df,df1, title, xlabel, ylabel, label1, label2):\n",
    "    fig = plt.figure()\n",
    "    ax = fig.add_subplot(1, 1, 1)\n",
    "    ax.plot(\n",
    "        df,\n",
    "        marker='o', label=label1\n",
    "    )\n",
    "    ax.plot(df1, marker='>', label=label2)\n",
    "    ax.plot()\n",
    "    ax.set_title(title)\n",
    "    ax.set_xlabel(xlabel)\n",
    "    ax.set_ylabel(ylabel)\n",
    "    ax.legend()\n",
    "    plt.grid(True)\n",
    "    #plt.yscale(\"log\", base=10)\n",
    "    plt.xscale(\"log\", base=2)\n",
    "    plt.xticks(threads)\n",
    "    plt.show()\n",
    "    return fig, ax"
   ]
  },
  {
   "cell_type": "code",
   "execution_count": null,
   "metadata": {},
   "outputs": [],
   "source": [
    "def plot_mpl_inputsizes(df,df1, df2, df3, df4, df5, df6, title, xlabel, ylabel, label1, label2, label3, label4, label5, label6, label7):\n",
    "    fig = plt.figure()\n",
    "    ax = fig.add_subplot(1, 1, 1)\n",
    "    ax.plot(\n",
    "        df,\n",
    "        marker='o', label=label1\n",
    "    )\n",
    "    ax.plot(df1, marker='>', label=label2)\n",
    "    ax.plot(df2, marker='^', label=label3)\n",
    "    ax.plot(df3, marker='o', label=label4)\n",
    "    ax.plot(df4, marker='v', label=label5)\n",
    "    ax.plot(df5, marker='1', label=label6)\n",
    "    ax.plot(df6, marker='2', label=label7)\n",
    "    ax.plot()\n",
    "    ax.set_title(title)\n",
    "    ax.set_xlabel(xlabel)\n",
    "    ax.set_ylabel(ylabel)\n",
    "    ax.legend()\n",
    "    plt.grid(True)\n",
    "    #plt.yscale(\"log\", base=10)\n",
    "    plt.xscale(\"log\", base=2)\n",
    "    plt.xticks(threads)\n",
    "    plt.show()\n",
    "    return fig, ax"
   ]
  },
  {
   "cell_type": "code",
   "execution_count": null,
   "metadata": {},
   "outputs": [],
   "source": [
    "def plot_mpl_inputtypes(df,df1, df2, df3, title, xlabel, ylabel, label1, label2, label3, label4):\n",
    "    fig = plt.figure()\n",
    "    ax = fig.add_subplot(1, 1, 1)\n",
    "    ax.plot(\n",
    "        df,\n",
    "        marker='o', label=label1\n",
    "    )\n",
    "    ax.plot(df1, marker='>', label=label2)\n",
    "    ax.plot(df2, marker='<', label=label3)\n",
    "    ax.plot(df3, marker='v', label=label4)\n",
    "    ax.plot()\n",
    "    ax.set_title(title)\n",
    "    ax.set_xlabel(xlabel)\n",
    "    ax.set_ylabel(ylabel)\n",
    "    ax.legend(loc=\"upper left\", bbox_to_anchor=(1,1))\n",
    "    plt.grid(True)\n",
    "    #plt.yscale(\"log\", base=10)\n",
    "    plt.xscale(\"log\", base=2)\n",
    "    plt.xticks(threads)\n",
    "    plt.show()\n",
    "    return fig, ax"
   ]
  },
  {
   "cell_type": "markdown",
   "metadata": {},
   "source": [
    "# Examples"
   ]
  },
  {
   "cell_type": "markdown",
   "metadata": {},
   "source": [
    "## time"
   ]
  },
  {
   "cell_type": "code",
   "execution_count": null,
   "metadata": {},
   "outputs": [],
   "source": [
    "sizes = [ 65536, 262144, 1048576, 4194304, 16777216, 67108864, 268435456]\n",
    "sorttypes = [('1 perturbed', 'Avg time/rank'),\n",
    "            (     'random', 'Avg time/rank'),\n",
    "            (   'reversed', 'Avg time/rank'),\n",
    "            (     'sorted', 'Avg time/rank')]\n",
    "# need to change sizes to be sizes then create an mpl function to take in a df_ of every size\n",
    "print(ctk.dataframe.columns)"
   ]
  },
  {
   "cell_type": "code",
   "execution_count": null,
   "metadata": {
    "scrolled": true
   },
   "outputs": [],
   "source": [
    "regions = sorted(list(set(ctk.dataframe.index.get_level_values(\"name\"))))\n",
    "print(regions)\n",
    "\n",
    "for ctk in allctk:\n",
    "    print(ctk.dataframe)"
   ]
  },
  {
   "cell_type": "code",
   "execution_count": null,
   "metadata": {},
   "outputs": [],
   "source": [
    "i = 0\n",
    "for ctk in allctk:\n",
    "    plot_mpl_inputtypes(\n",
    "        df=ctk.dataframe[[sorttypes[0]]].loc[\"main\"],\n",
    "        df1= ctk.dataframe[[sorttypes[1]]].loc[\"main\"],\n",
    "        df2= ctk.dataframe[[sorttypes[2]]].loc[\"main\"],\n",
    "        df3= ctk.dataframe[[sorttypes[3]]].loc[\"main\"],\n",
    "        title=f\"Strong Scaling {sizes[i]}: Main\",\n",
    "        xlabel=\"Procs\",\n",
    "        ylabel=\"Time (seconds)\",\n",
    "        label1='1 perturbed',\n",
    "        label2='random',\n",
    "        label3='reversed',\n",
    "        label4= 'sorted'\n",
    "    )\n",
    "    i += 1"
   ]
  },
  {
   "cell_type": "markdown",
   "metadata": {},
   "source": [
    "# Plot of 2"
   ]
  },
  {
   "cell_type": "code",
   "execution_count": null,
   "metadata": {},
   "outputs": [],
   "source": [
    "# i = 0\n",
    "# for ctk in allctk:\n",
    "#     plot_mpl2(\n",
    "#         df= ctk.dataframe[[temp[1]]].loc[\"main\"],\n",
    "#         df1= ctk.dataframe[[temp[2]]].loc[\"main\"],\n",
    "#         title=f\"Sorted Weak Scaling {sizes[i]}: Main\",\n",
    "#         xlabel=\"Threads\",\n",
    "#         ylabel=\"Time (seconds)\",\n",
    "#         label1='Sample',\n",
    "#         label2='Merge'\n",
    "#     )\n",
    "#     i += 1"
   ]
  },
  {
   "cell_type": "markdown",
   "metadata": {},
   "source": [
    "## Comp_Large Graphs (for 3 then 2)"
   ]
  },
  {
   "cell_type": "code",
   "execution_count": null,
   "metadata": {},
   "outputs": [],
   "source": [
    "i = 0\n",
    "for ctk in allctk:\n",
    "    plot_mpl_inputtypes(\n",
    "        df=ctk.dataframe[[sorttypes[0]]].loc[\"comp_large\"],\n",
    "        df1= ctk.dataframe[[sorttypes[1]]].loc[\"comp_large\"],\n",
    "        df2= ctk.dataframe[[sorttypes[2]]].loc[\"comp_large\"],\n",
    "        df3= ctk.dataframe[[sorttypes[3]]].loc[\"comp_large\"],\n",
    "        title=f\"Strong Scaling {sizes[i]}: Comp Large\",\n",
    "        xlabel=\"Procs\",\n",
    "        ylabel=\"Time (seconds)\",\n",
    "        label1='1 perturbed',\n",
    "        label2='random',\n",
    "        label3='reversed',\n",
    "        label4= 'sorted'\n",
    "    )\n",
    "    i += 1"
   ]
  },
  {
   "cell_type": "code",
   "execution_count": null,
   "metadata": {},
   "outputs": [],
   "source": []
  },
  {
   "cell_type": "markdown",
   "metadata": {},
   "source": [
    "## Comm Graphs (for 3 then 2)"
   ]
  },
  {
   "cell_type": "code",
   "execution_count": null,
   "metadata": {},
   "outputs": [],
   "source": [
    "i = 0\n",
    "for ctk in allctk:\n",
    "    plot_mpl_inputtypes(\n",
    "        df=ctk.dataframe[[sorttypes[0]]].loc[\"comm\"],\n",
    "        df1= ctk.dataframe[[sorttypes[1]]].loc[\"comm\"],\n",
    "        df2= ctk.dataframe[[sorttypes[2]]].loc[\"comm\"],\n",
    "        df3= ctk.dataframe[[sorttypes[3]]].loc[\"comm\"],\n",
    "        title=f\"Strong Scaling {sizes[i]}: Comm\",\n",
    "        xlabel=\"Procs\",\n",
    "        ylabel=\"Time (seconds)\",\n",
    "        label1='1 perturbed',\n",
    "        label2='random',\n",
    "        label3='reversed',\n",
    "        label4= 'sorted'\n",
    "    )\n",
    "    i += 1"
   ]
  },
  {
   "cell_type": "code",
   "execution_count": null,
   "metadata": {},
   "outputs": [],
   "source": []
  },
  {
   "cell_type": "code",
   "execution_count": null,
   "metadata": {},
   "outputs": [],
   "source": []
  },
  {
   "cell_type": "code",
   "execution_count": null,
   "metadata": {},
   "outputs": [],
   "source": []
  },
  {
   "cell_type": "code",
   "execution_count": null,
   "metadata": {},
   "outputs": [],
   "source": []
  }
 ],
 "metadata": {
  "kernelspec": {
   "display_name": "Python 3",
   "language": "python",
   "name": "python3"
  },
  "language_info": {
   "codemirror_mode": {
    "name": "ipython",
    "version": 3
   },
   "file_extension": ".py",
   "mimetype": "text/x-python",
   "name": "python",
   "nbconvert_exporter": "python",
   "pygments_lexer": "ipython3",
   "version": "3.8.6"
  }
 },
 "nbformat": 4,
 "nbformat_minor": 4
}
